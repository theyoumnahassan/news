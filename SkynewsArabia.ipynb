{
 "cells": [
  {
   "cell_type": "code",
   "execution_count": 6,
   "id": "3f2dc642",
   "metadata": {},
   "outputs": [],
   "source": [
    "import requests\n",
    "from bs4 import BeautifulSoup\n",
    "\n",
    "result = requests.get(\"http://www.skynewsarabia.com/rss\")\n",
    "src = result.content\n",
    "soup = BeautifulSoup(src, 'lxml')\n",
    "\n",
    "items = soup.find_all('item')\n",
    "\n",
    "for item in items:\n",
    "    title = item.find('title').text\n",
    "    pubdate = item.find('pubdate').text\n",
    "\n",
    "    if pubdate[5:16] == \"18 Jun 2024\":\n",
    "        print(title)\n",
    "\n",
    "with open(\"skynewsarabia_headlines.txt\", 'w') as f:\n",
    "    for item in items:\n",
    "        title = item.find('title').text\n",
    "        pubdate = item.find('pubdate').text\n",
    "\n",
    "        if pubdate[5:16] == \"18 Jun 2024\":\n",
    "            f.write(title + '\\n')"
   ]
  },
  {
   "cell_type": "code",
   "execution_count": null,
   "id": "37c533f2",
   "metadata": {},
   "outputs": [],
   "source": []
  }
 ],
 "metadata": {
  "kernelspec": {
   "display_name": "Python 3 (ipykernel)",
   "language": "python",
   "name": "python3"
  },
  "language_info": {
   "codemirror_mode": {
    "name": "ipython",
    "version": 3
   },
   "file_extension": ".py",
   "mimetype": "text/x-python",
   "name": "python",
   "nbconvert_exporter": "python",
   "pygments_lexer": "ipython3",
   "version": "3.11.5"
  }
 },
 "nbformat": 4,
 "nbformat_minor": 5
}
